{
 "cells": [
  {
   "cell_type": "markdown",
   "metadata": {},
   "source": [
    "# Create sentiment table"
   ]
  },
  {
   "cell_type": "code",
   "execution_count": 1,
   "metadata": {},
   "outputs": [],
   "source": [
    "import pandas as pd\n",
    "import numpy as np\n",
    "from gensim.models import Word2Vec\n",
    "from sklearn.cluster import KMeans\n",
    "from pythainlp import word_vector"
   ]
  },
  {
   "cell_type": "code",
   "execution_count": 2,
   "metadata": {},
   "outputs": [],
   "source": [
    "word_vectors = word_vector.get_model()\n",
    "#word_vectors.vectors"
   ]
  },
  {
   "cell_type": "markdown",
   "metadata": {},
   "source": [
    "# Choose best cluster number"
   ]
  },
  {
   "cell_type": "code",
   "execution_count": 4,
   "metadata": {},
   "outputs": [
    {
     "data": {
      "image/png": "[encoded data removed]",
      "text/plain": [
       "<Figure size 432x288 with 1 Axes>"
      ]
     },
     "metadata": {
      "needs_background": "light"
     },
     "output_type": "display_data"
    }
   ],
   "source": [
    "import matplotlib.pyplot as plt\n",
    "wcss = []\n",
    "for i in range(1, 11):\n",
    "    kmeans = KMeans(n_clusters = i, init = 'k-means++', random_state = 42)\n",
    "    kmeans.fit(np.array(word_vectors.vectors))\n",
    "    wcss.append(kmeans.inertia_)\n",
    "plt.plot(range(1, 11), wcss)\n",
    "plt.title('The Elbow Method')\n",
    "plt.xlabel('Number of clusters')\n",
    "plt.ylabel('WCSS')\n",
    "plt.show()"
   ]
  },
  {
   "cell_type": "code",
   "execution_count": 36,
   "metadata": {},
   "outputs": [],
   "source": [
    "kmeans = KMeans(n_clusters=4, max_iter=1000, random_state=True, n_init=50)\n",
    "y = kmeans.fit_predict(np.array(word_vectors.vectors))"
   ]
  },
  {
   "cell_type": "code",
   "execution_count": 37,
   "metadata": {},
   "outputs": [],
   "source": [
    "wordsAmount = word_vectors.vectors.shape[0]\n",
    "words = word_vectors.vocab.keys()"
   ]
  },
  {
   "cell_type": "code",
   "execution_count": 38,
   "metadata": {
    "scrolled": true
   },
   "outputs": [
    {
     "name": "stdout",
     "output_type": "stream",
     "text": [
      "True\n"
     ]
    }
   ],
   "source": [
    "#check if the order of vectors are the same\n",
    "#word_vectors.vectors to train model => cluster labels same order\n",
    "checkTrue = True\n",
    "\n",
    "for i,key in zip(range(wordsAmount), words):\n",
    "    checkTrue = (word_vectors[key] == word_vectors.vectors[i]).all() and checkTrue\n",
    "    \n",
    "print(checkTrue)"
   ]
  },
  {
   "cell_type": "code",
   "execution_count": 56,
   "metadata": {},
   "outputs": [
    {
     "name": "stdout",
     "output_type": "stream",
     "text": [
      "[('ในเวลานั้น', 0.5669651031494141), ('เป็นครั้งคราว', 0.5531692504882812), ('เสมอมา', 0.5510373711585999), ('โดยตลอด', 0.5454616546630859), ('อย่างถาวร', 0.5441012382507324), ('ในเวลาเดียวกัน', 0.5367333889007568), ('เป็นสำคัญ', 0.5332139730453491), ('เป็นการชั่วคราว', 0.5311963558197021), ('โดยทันที', 0.5277149677276611), ('ในไม่ช้า', 0.5243468880653381), ('ภายในบ้าน', 0.51945561170578), ('ทั้งมวล', 0.5194107890129089), ('จวบจน', 0.519090473651886), ('อย่างเปิดเผย', 0.5182290077209473), ('สืบไป', 0.5175905823707581), ('อย่างแท้จริง', 0.5166891813278198), ('โดยพฤตินัย', 0.5112501382827759), ('เมื่อไม่นานมานี้', 0.5093095898628235), ('ทั้งนั้น', 0.5074727535247803), ('อย่างแน่นอน', 0.5058451890945435)]\n",
      "[[1.44069429 1.71917265 0.         0.90939345]]\n",
      "[[0.92625727 0.         1.71917265 1.3919225 ]]\n",
      "[[0.         0.92625727 1.44069429 0.89732851]]\n"
     ]
    }
   ],
   "source": [
    "print(word_vectors.similar_by_vector(kmeans.cluster_centers_[2], topn=20, restrict_vocab=None))\n",
    "kmeans.cluster_centers_\n",
    "print(kmeans.transform([kmeans.cluster_centers_[2]]))\n",
    "print(kmeans.transform([kmeans.cluster_centers_[1]]))\n",
    "print(kmeans.transform([kmeans.cluster_centers_[0]]))"
   ]
  },
  {
   "cell_type": "code",
   "execution_count": 160,
   "metadata": {},
   "outputs": [],
   "source": [
    "positive_cluster_center = kmeans.cluster_centers_[0]\n",
    "negative_cluster_center = kmeans.cluster_centers_[1]"
   ]
  },
  {
   "cell_type": "code",
   "execution_count": 48,
   "metadata": {},
   "outputs": [
    {
     "data": {
      "text/plain": [
       "array([[5.68301196, 5.76651374, 5.41116997, 5.55259009]])"
      ]
     },
     "execution_count": 48,
     "metadata": {},
     "output_type": "execute_result"
    }
   ],
   "source": [
    "kmeans.transform([word_vectors['ไม่']])"
   ]
  },
  {
   "cell_type": "code",
   "execution_count": 49,
   "metadata": {},
   "outputs": [],
   "source": [
    "df = pd.DataFrame(word_vectors.vocab.keys(),columns=['words'])\n",
    "df['vectors'] = df.words.apply(lambda x: word_vectors[x])\n",
    "df['clusters']=y\n",
    "\n",
    "def convertValue():\n",
    "    clusterValue = []\n",
    "    for i in df.clusters:\n",
    "        if i==2:\n",
    "            clusterValue.append(1)\n",
    "        elif i==3:\n",
    "            clusterValue.append(-1)\n",
    "        else:\n",
    "            clusterValue.append(0)\n",
    "    return clusterValue\n",
    "\n",
    "df['cluster_value'] = convertValue()\n",
    "df['closeness_score'] = df.apply(lambda x: 1/(kmeans.transform([x.vectors]).min()), axis=1)"
   ]
  },
  {
   "cell_type": "code",
   "execution_count": 50,
   "metadata": {},
   "outputs": [],
   "source": [
    "df['sentiment_coeff'] = df.closeness_score * df.cluster_value\n",
    "df[['words', 'sentiment_coeff']].to_csv('sentiment_dictionary.csv', index=False)"
   ]
  },
  {
   "cell_type": "code",
   "execution_count": 53,
   "metadata": {},
   "outputs": [
    {
     "data": {
      "text/html": [
       "<div>\n",
       "<style scoped>\n",
       "    .dataframe tbody tr th:only-of-type {\n",
       "        vertical-align: middle;\n",
       "    }\n",
       "\n",
       "    .dataframe tbody tr th {\n",
       "        vertical-align: top;\n",
       "    }\n",
       "\n",
       "    .dataframe thead th {\n",
       "        text-align: right;\n",
       "    }\n",
       "</style>\n",
       "<table border=\"1\" class=\"dataframe\">\n",
       "  <thead>\n",
       "    <tr style=\"text-align: right;\">\n",
       "      <th></th>\n",
       "      <th>words</th>\n",
       "      <th>vectors</th>\n",
       "      <th>clusters</th>\n",
       "      <th>cluster_value</th>\n",
       "      <th>closeness_score</th>\n",
       "      <th>sentiment_coeff</th>\n",
       "    </tr>\n",
       "  </thead>\n",
       "  <tbody>\n",
       "    <tr>\n",
       "      <th>0</th>\n",
       "      <td>ที่</td>\n",
       "      <td>[0.308956, -0.097699, 0.116745, 0.215612, 0.01...</td>\n",
       "      <td>2</td>\n",
       "      <td>1</td>\n",
       "      <td>0.134187</td>\n",
       "      <td>0.134187</td>\n",
       "    </tr>\n",
       "    <tr>\n",
       "      <th>1</th>\n",
       "      <td>และ</td>\n",
       "      <td>[0.010751, -0.618971, 0.129665, 0.03546, -0.00...</td>\n",
       "      <td>2</td>\n",
       "      <td>1</td>\n",
       "      <td>0.143851</td>\n",
       "      <td>0.143851</td>\n",
       "    </tr>\n",
       "    <tr>\n",
       "      <th>2</th>\n",
       "      <td>เป็น</td>\n",
       "      <td>[-0.015736, -0.258926, 0.052953, 0.153728, -0....</td>\n",
       "      <td>2</td>\n",
       "      <td>1</td>\n",
       "      <td>0.169270</td>\n",
       "      <td>0.169270</td>\n",
       "    </tr>\n",
       "    <tr>\n",
       "      <th>3</th>\n",
       "      <td>ของ</td>\n",
       "      <td>[-0.189711, -0.174774, 0.171124, -0.186771, 0....</td>\n",
       "      <td>2</td>\n",
       "      <td>1</td>\n",
       "      <td>0.131872</td>\n",
       "      <td>0.131872</td>\n",
       "    </tr>\n",
       "    <tr>\n",
       "      <th>4</th>\n",
       "      <td>มี</td>\n",
       "      <td>[-0.156962, -0.231863, 0.080312, 0.323157, 0.2...</td>\n",
       "      <td>2</td>\n",
       "      <td>1</td>\n",
       "      <td>0.174364</td>\n",
       "      <td>0.174364</td>\n",
       "    </tr>\n",
       "    <tr>\n",
       "      <th>...</th>\n",
       "      <td>...</td>\n",
       "      <td>...</td>\n",
       "      <td>...</td>\n",
       "      <td>...</td>\n",
       "      <td>...</td>\n",
       "      <td>...</td>\n",
       "    </tr>\n",
       "    <tr>\n",
       "      <th>8386</th>\n",
       "      <td>ตัดผ่าน</td>\n",
       "      <td>[-0.047419, 0.027557, -0.039753, -0.02959, 0.0...</td>\n",
       "      <td>2</td>\n",
       "      <td>1</td>\n",
       "      <td>0.479218</td>\n",
       "      <td>0.479218</td>\n",
       "    </tr>\n",
       "    <tr>\n",
       "      <th>8573</th>\n",
       "      <td>อย่างแน่นอน</td>\n",
       "      <td>[-0.060258, -0.054829, 0.065596, -0.078258, -0...</td>\n",
       "      <td>2</td>\n",
       "      <td>1</td>\n",
       "      <td>0.559882</td>\n",
       "      <td>0.559882</td>\n",
       "    </tr>\n",
       "    <tr>\n",
       "      <th>9032</th>\n",
       "      <td>\"?\"\"\"</td>\n",
       "      <td>[-0.151507, -0.1178, 0.100134, 0.050755, -0.08...</td>\n",
       "      <td>2</td>\n",
       "      <td>1</td>\n",
       "      <td>0.392288</td>\n",
       "      <td>0.392288</td>\n",
       "    </tr>\n",
       "    <tr>\n",
       "      <th>9388</th>\n",
       "      <td>อีกแล้ว</td>\n",
       "      <td>[0.062126, -0.049788, 0.089085, -0.023851, -0....</td>\n",
       "      <td>2</td>\n",
       "      <td>1</td>\n",
       "      <td>0.505368</td>\n",
       "      <td>0.505368</td>\n",
       "    </tr>\n",
       "    <tr>\n",
       "      <th>9607</th>\n",
       "      <td>เพียงใด</td>\n",
       "      <td>[-0.106643, -0.528782, 0.013765, -0.039838, -0...</td>\n",
       "      <td>2</td>\n",
       "      <td>1</td>\n",
       "      <td>0.405171</td>\n",
       "      <td>0.405171</td>\n",
       "    </tr>\n",
       "  </tbody>\n",
       "</table>\n",
       "<p>3681 rows × 6 columns</p>\n",
       "</div>"
      ],
      "text/plain": [
       "            words                                            vectors  \\\n",
       "0             ที่  [0.308956, -0.097699, 0.116745, 0.215612, 0.01...   \n",
       "1             และ  [0.010751, -0.618971, 0.129665, 0.03546, -0.00...   \n",
       "2            เป็น  [-0.015736, -0.258926, 0.052953, 0.153728, -0....   \n",
       "3             ของ  [-0.189711, -0.174774, 0.171124, -0.186771, 0....   \n",
       "4              มี  [-0.156962, -0.231863, 0.080312, 0.323157, 0.2...   \n",
       "...           ...                                                ...   \n",
       "8386      ตัดผ่าน  [-0.047419, 0.027557, -0.039753, -0.02959, 0.0...   \n",
       "8573  อย่างแน่นอน  [-0.060258, -0.054829, 0.065596, -0.078258, -0...   \n",
       "9032        \"?\"\"\"  [-0.151507, -0.1178, 0.100134, 0.050755, -0.08...   \n",
       "9388      อีกแล้ว  [0.062126, -0.049788, 0.089085, -0.023851, -0....   \n",
       "9607      เพียงใด  [-0.106643, -0.528782, 0.013765, -0.039838, -0...   \n",
       "\n",
       "      clusters  cluster_value  closeness_score  sentiment_coeff  \n",
       "0            2              1         0.134187         0.134187  \n",
       "1            2              1         0.143851         0.143851  \n",
       "2            2              1         0.169270         0.169270  \n",
       "3            2              1         0.131872         0.131872  \n",
       "4            2              1         0.174364         0.174364  \n",
       "...        ...            ...              ...              ...  \n",
       "8386         2              1         0.479218         0.479218  \n",
       "8573         2              1         0.559882         0.559882  \n",
       "9032         2              1         0.392288         0.392288  \n",
       "9388         2              1         0.505368         0.505368  \n",
       "9607         2              1         0.405171         0.405171  \n",
       "\n",
       "[3681 rows x 6 columns]"
      ]
     },
     "execution_count": 53,
     "metadata": {},
     "output_type": "execute_result"
    }
   ],
   "source": [
    "df[df.cluster_value==1]"
   ]
  },
  {
   "cell_type": "markdown",
   "metadata": {},
   "source": [
    "# Predict Sentiment of a sentence"
   ]
  },
  {
   "cell_type": "code",
   "execution_count": 54,
   "metadata": {},
   "outputs": [],
   "source": [
    "def predictsentiment(sent):\n",
    "    print(sent)\n",
    "    #tokenize sentence using thainlp\n",
    "    \n",
    "    from pythainlp.tokenize import word_tokenize\n",
    "    sent_arr = word_tokenize(sent , engine = 'pyicu')\n",
    "    print(sent_arr)\n",
    "    \n",
    "    sentiment = 0\n",
    "    sentiment_df = pd.read_csv('sentiment_dictionary.csv')\n",
    "    for word in sent_arr:\n",
    "        if len(sentiment_df[sentiment_df.words==word])!=0:\n",
    "            sentiment += sentiment_df[sentiment_df.words==word].values[0][1]\n",
    "            print(sentiment_df[sentiment_df.words==word].values[0][1])\n",
    "    print(sent,'มีค่าเป็น:', sentiment)"
   ]
  },
  {
   "cell_type": "code",
   "execution_count": 55,
   "metadata": {},
   "outputs": [
    {
     "name": "stdout",
     "output_type": "stream",
     "text": [
      "สินค้าไม่ได้เรื่อง\n",
      "['สินค้า', 'ไม่ได้เรื่อง']\n",
      "0.2588045320515311\n",
      "0.0\n",
      "สินค้าไม่ได้เรื่อง มีค่าเป็น: 0.2588045320515311\n"
     ]
    }
   ],
   "source": [
    "predictsentiment('สินค้าไม่ได้เรื่อง')"
   ]
  },
  {
   "cell_type": "markdown",
   "metadata": {},
   "source": [
    "# Array stuff"
   ]
  },
  {
   "cell_type": "code",
   "execution_count": 63,
   "metadata": {
    "scrolled": true
   },
   "outputs": [
    {
     "data": {
      "text/plain": [
       "100"
      ]
     },
     "execution_count": 63,
     "metadata": {},
     "output_type": "execute_result"
    }
   ],
   "source": [
    "x = np.array([1,0,2,0,3,0,4,5,6,7,8])\n",
    "np.where(x == 0)\n",
    "np.nonzero(y)[0][:100]"
   ]
  },
  {
   "cell_type": "code",
   "execution_count": 35,
   "metadata": {
    "scrolled": true
   },
   "outputs": [
    {
     "name": "stdout",
     "output_type": "stream",
     "text": [
      "True\n"
     ]
    }
   ],
   "source": [
    "#select vectors[position is true]\n",
    "print(word_vectors.vectors.shape[0] == word_vectors.vectors[y==1].shape[0] + word_vectors.vectors[y==0].shape[0])"
   ]
  },
  {
   "cell_type": "markdown",
   "metadata": {},
   "source": [
    "# See which cluster is negative or positive"
   ]
  },
  {
   "cell_type": "code",
   "execution_count": null,
   "metadata": {},
   "outputs": [],
   "source": [
    "word_vectors.similar_by_vector(model.cluster_centers_[1], topn=20, restrict_vocab=None)\n",
    "#model.cluster_centers_.shape"
   ]
  },
  {
   "cell_type": "code",
   "execution_count": null,
   "metadata": {},
   "outputs": [],
   "source": [
    "positive_cluster_center = model.cluster_centers_[0]\n",
    "negative_cluster_center = model.cluster_centers_[1]"
   ]
  },
  {
   "cell_type": "code",
   "execution_count": 89,
   "metadata": {},
   "outputs": [
    {
     "ename": "ValueError",
     "evalue": "Buffer dtype mismatch, expected 'double' but got 'float'",
     "output_type": "error",
     "traceback": [
      "\u001b[0;31m---------------------------------------------------------------------------\u001b[0m",
      "\u001b[0;31mValueError\u001b[0m                                Traceback (most recent call last)",
      "\u001b[0;32m<ipython-input-89-832354cde2aa>\u001b[0m in \u001b[0;36m<module>\u001b[0;34m\u001b[0m\n\u001b[0;32m----> 1\u001b[0;31m \u001b[0mkmeans\u001b[0m\u001b[0;34m.\u001b[0m\u001b[0mpredict\u001b[0m\u001b[0;34m(\u001b[0m\u001b[0;34m[\u001b[0m\u001b[0mword_vectors\u001b[0m\u001b[0;34m.\u001b[0m\u001b[0mvectors\u001b[0m\u001b[0;34m[\u001b[0m\u001b[0;36m0\u001b[0m\u001b[0;34m]\u001b[0m\u001b[0;34m]\u001b[0m\u001b[0;34m)\u001b[0m\u001b[0;34m\u001b[0m\u001b[0;34m\u001b[0m\u001b[0m\n\u001b[0m",
      "\u001b[0;32m~/opt/anaconda3/lib/python3.7/site-packages/sklearn/cluster/_kmeans.py\u001b[0m in \u001b[0;36mpredict\u001b[0;34m(self, X, sample_weight)\u001b[0m\n\u001b[1;32m   1186\u001b[0m \u001b[0;34m\u001b[0m\u001b[0m\n\u001b[1;32m   1187\u001b[0m         return _labels_inertia(X, sample_weight, x_squared_norms,\n\u001b[0;32m-> 1188\u001b[0;31m                                self.cluster_centers_, self._n_threads)[0]\n\u001b[0m\u001b[1;32m   1189\u001b[0m \u001b[0;34m\u001b[0m\u001b[0m\n\u001b[1;32m   1190\u001b[0m     \u001b[0;32mdef\u001b[0m \u001b[0mscore\u001b[0m\u001b[0;34m(\u001b[0m\u001b[0mself\u001b[0m\u001b[0;34m,\u001b[0m \u001b[0mX\u001b[0m\u001b[0;34m,\u001b[0m \u001b[0my\u001b[0m\u001b[0;34m=\u001b[0m\u001b[0;32mNone\u001b[0m\u001b[0;34m,\u001b[0m \u001b[0msample_weight\u001b[0m\u001b[0;34m=\u001b[0m\u001b[0;32mNone\u001b[0m\u001b[0;34m)\u001b[0m\u001b[0;34m:\u001b[0m\u001b[0;34m\u001b[0m\u001b[0;34m\u001b[0m\u001b[0m\n",
      "\u001b[0;32m~/opt/anaconda3/lib/python3.7/site-packages/sklearn/cluster/_kmeans.py\u001b[0m in \u001b[0;36m_labels_inertia\u001b[0;34m(X, sample_weight, x_squared_norms, centers, n_threads)\u001b[0m\n\u001b[1;32m    654\u001b[0m     _labels(X, sample_weight, x_squared_norms, centers, centers,\n\u001b[1;32m    655\u001b[0m             \u001b[0mweight_in_clusters\u001b[0m\u001b[0;34m,\u001b[0m \u001b[0mlabels\u001b[0m\u001b[0;34m,\u001b[0m \u001b[0mcenter_shift\u001b[0m\u001b[0;34m,\u001b[0m \u001b[0mn_threads\u001b[0m\u001b[0;34m,\u001b[0m\u001b[0;34m\u001b[0m\u001b[0;34m\u001b[0m\u001b[0m\n\u001b[0;32m--> 656\u001b[0;31m             update_centers=False)\n\u001b[0m\u001b[1;32m    657\u001b[0m \u001b[0;34m\u001b[0m\u001b[0m\n\u001b[1;32m    658\u001b[0m     \u001b[0minertia\u001b[0m \u001b[0;34m=\u001b[0m \u001b[0m_inertia\u001b[0m\u001b[0;34m(\u001b[0m\u001b[0mX\u001b[0m\u001b[0;34m,\u001b[0m \u001b[0msample_weight\u001b[0m\u001b[0;34m,\u001b[0m \u001b[0mcenters\u001b[0m\u001b[0;34m,\u001b[0m \u001b[0mlabels\u001b[0m\u001b[0;34m)\u001b[0m\u001b[0;34m\u001b[0m\u001b[0;34m\u001b[0m\u001b[0m\n",
      "\u001b[0;32msklearn/cluster/_k_means_lloyd.pyx\u001b[0m in \u001b[0;36msklearn.cluster._k_means_lloyd.lloyd_iter_chunked_dense\u001b[0;34m()\u001b[0m\n",
      "\u001b[0;31mValueError\u001b[0m: Buffer dtype mismatch, expected 'double' but got 'float'"
     ]
    }
   ],
   "source": [
    "#problem\n",
    "kmeans.predict([word_vectors.vectors[0]])"
   ]
  },
  {
   "cell_type": "markdown",
   "metadata": {},
   "source": [
    "# Trying to solve error \n",
    "Buffer dtype mismatch, expected 'double' but got 'float' with kmeans.predict"
   ]
  },
  {
   "cell_type": "code",
   "execution_count": null,
   "metadata": {
    "scrolled": true
   },
   "outputs": [],
   "source": [
    "words.words.apply(lambda x: word_vectors[x])[0].astype('float64').dtype"
   ]
  },
  {
   "cell_type": "code",
   "execution_count": null,
   "metadata": {},
   "outputs": [],
   "source": [
    "from scipy.sparse import csr_matrix\n",
    "#word_vectors['ที่'].astype('double').dtype\n",
    "csr_matrix([word_vectors['ที่'].astype('double')])\n",
    "#type([word_vectors['ที่'].astype('double')])\n",
    "kmeans.predict(csr_matrix([word_vectors['ที่'].astype('double')]))"
   ]
  },
  {
   "cell_type": "code",
   "execution_count": null,
   "metadata": {},
   "outputs": [],
   "source": [
    "float(2)\n",
    "#word_vectors['ที่']"
   ]
  },
  {
   "cell_type": "code",
   "execution_count": null,
   "metadata": {},
   "outputs": [],
   "source": []
  }
 ],
 "metadata": {
  "kernelspec": {
   "display_name": "Python 3",
   "language": "python",
   "name": "python3"
  },
  "language_info": {
   "codemirror_mode": {
    "name": "ipython",
    "version": 3
   },
   "file_extension": ".py",
   "mimetype": "text/x-python",
   "name": "python",
   "nbconvert_exporter": "python",
   "pygments_lexer": "ipython3",
   "version": "3.7.6"
  }
 },
 "nbformat": 4,
 "nbformat_minor": 4
}
